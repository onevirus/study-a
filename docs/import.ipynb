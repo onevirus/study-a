{
 "cells": [
  {
   "cell_type": "markdown",
   "id": "unable-header",
   "metadata": {},
   "source": [
    "Module\n",
    "======\n",
    "\n",
    "https://docs.python.org/3/tutorial/modules.html?highlight=package#modules\n",
    "\n",
    "# python module\n",
    "\n",
    "A `module` is a `file` containing Python definitions and statements.\n",
    "\n",
    "The `file name` is the `module name` with the suffix .py appended.\n",
    "\n",
    "# Import\n",
    "\n",
    "module import 시 다음의 순서로 file 을 찾음\n",
    "- built-in module\n",
    "- sys.path\n",
    "\n",
    "sys.path 는 다음과 같이 설정됨\n",
    "- The directory containing the input script (or the current directory when no file is specified).\n",
    "- PYTHONPATH (a list of directory names, with the same syntax as the shell variable PATH).\n",
    "- The installation-dependent default.\n",
    "\n",
    "Note that when using from package import item, the item can be either a submodule (or subpackage) of the package, or some other name defined in the package, like a function, class or variable. The import statement first tests whether the item is defined in the package; if not, it assumes it is a module and attempts to load it. If it fails to find it, an ImportError exception is raised.\n",
    "\n",
    "Contrarily, when using syntax like import item.subitem.subsubitem, each item except for the last must be a package; the last item can be a module or a package but can’t be a class or function or variable defined in the previous item.\n",
    "\n",
    "\n",
    "# python package\n",
    "\n",
    "Packages are a way of structuring Python’s module namespace by using “dotted module names”.\n",
    "\n",
    "The __init__.py files are required to make Python treat directories containing the file as packages.\n",
    "\n",
    "n the simplest case, __init__.py can just be an empty file, but it can also execute initialization code for the package or set the __all__ variable, described later.\n",
    "\n",
    "\n",
    "## string varialbe 로 import 하기"
   ]
  },
  {
   "cell_type": "code",
   "execution_count": 6,
   "id": "better-ecuador",
   "metadata": {},
   "outputs": [
    {
     "data": {
      "text/plain": [
       "['/Users/onevirus/pipenv/study-a/contents',\n",
       " '/Users/onevirus/.pyenv/versions/3.7.10/lib/python37.zip',\n",
       " '/Users/onevirus/.pyenv/versions/3.7.10/lib/python3.7',\n",
       " '/Users/onevirus/.pyenv/versions/3.7.10/lib/python3.7/lib-dynload',\n",
       " '',\n",
       " '/Users/onevirus/.local/share/virtualenvs/study-a-BXTskM-X/lib/python3.7/site-packages',\n",
       " '/Users/onevirus/.local/share/virtualenvs/study-a-BXTskM-X/lib/python3.7/site-packages/IPython/extensions',\n",
       " '/Users/onevirus/.ipython']"
      ]
     },
     "execution_count": 6,
     "metadata": {},
     "output_type": "execute_result"
    }
   ],
   "source": [
    "import sys\n",
    "\n",
    "sys.path"
   ]
  },
  {
   "cell_type": "code",
   "execution_count": 1,
   "id": "daily-chicken",
   "metadata": {},
   "outputs": [
    {
     "name": "stdout",
     "output_type": "stream",
     "text": [
      "2021-06-08 04:51:54.275897\n",
      "/Users/onevirus/.pyenv/versions/3.7.10/lib/python3.7/datetime.py\n"
     ]
    },
    {
     "data": {
      "text/plain": [
       "['MAXYEAR',\n",
       " 'MINYEAR',\n",
       " '__builtins__',\n",
       " '__cached__',\n",
       " '__doc__',\n",
       " '__file__',\n",
       " '__loader__',\n",
       " '__name__',\n",
       " '__package__',\n",
       " '__spec__',\n",
       " 'date',\n",
       " 'datetime',\n",
       " 'datetime_CAPI',\n",
       " 'sys',\n",
       " 'time',\n",
       " 'timedelta',\n",
       " 'timezone',\n",
       " 'tzinfo']"
      ]
     },
     "execution_count": 1,
     "metadata": {},
     "output_type": "execute_result"
    }
   ],
   "source": [
    "import importlib\n",
    "\n",
    "mod = importlib.import_module(\"datetime\")\n",
    "\n",
    "print(mod.datetime.utcnow())\n",
    "print(mod.__file__)\n",
    "dir(mod)"
   ]
  },
  {
   "cell_type": "code",
   "execution_count": 39,
   "id": "drawn-decade",
   "metadata": {},
   "outputs": [
    {
     "name": "stdout",
     "output_type": "stream",
     "text": [
      "/Users/onevirus/.pyenv/versions/3.7.10/lib/python3.7/concurrent/futures/thread.py\n",
      "/Users/onevirus/.pyenv/versions/3.7.10/lib/python3.7/concurrent/futures/__init__.py\n",
      "/Users/onevirus/.pyenv/versions/3.7.10/lib/python3.7/concurrent/futures/thread.py\n",
      "/Users/onevirus/.pyenv/versions/3.7.10/lib/python3.7/xml/etree/ElementTree.py\n"
     ]
    }
   ],
   "source": [
    "import importlib\n",
    "\n",
    "a = importlib.import_module(\"concurrent.futures.thread\")\n",
    "print(a.__file__)\n",
    "\n",
    "b = importlib.import_module(\".futures\", \"concurrent\")\n",
    "print(b.__file__)\n",
    "\n",
    "c = importlib.import_module(\".futures.thread\", \"concurrent\")\n",
    "print(c.__file__)\n",
    "\n",
    "d = importlib.import_module(\".ElementTree\", \"xml.etree\")\n",
    "print(d.__file__)"
   ]
  }
 ],
 "metadata": {
  "kernelspec": {
   "display_name": "Python 3",
   "language": "python",
   "name": "python3"
  },
  "language_info": {
   "codemirror_mode": {
    "name": "ipython",
    "version": 3
   },
   "file_extension": ".py",
   "mimetype": "text/x-python",
   "name": "python",
   "nbconvert_exporter": "python",
   "pygments_lexer": "ipython3",
   "version": "3.7.10"
  }
 },
 "nbformat": 4,
 "nbformat_minor": 5
}

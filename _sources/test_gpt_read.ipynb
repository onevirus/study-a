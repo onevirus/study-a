{
 "cells": [
  {
   "cell_type": "code",
   "execution_count": 44,
   "id": "mounted-farming",
   "metadata": {},
   "outputs": [],
   "source": [
    "from io import BytesIO\n",
    "from typing import Iterable, Dict\n",
    "\n",
    "\n",
    "def extract(byte_io: BytesIO) -> Iterable[Dict]:\n",
    "    \"\"\"\n",
    "    Implement corpus specific extract function\n",
    "    \"\"\"\n",
    "    from itertools import chain\n",
    "    from zipfile import ZipFile\n",
    "\n",
    "    zip_obj = ZipFile(byte_io)\n",
    "    archives = zip_obj.namelist()\n",
    "    jsons = filter(lambda x: x.endswith(\".json\"), archives)\n",
    "    file_ios = map(zip_obj.open, jsons)\n",
    "    return chain(map(extract_each_json, file_ios))\n",
    "    # return chain(*map(extract_each_json, file_ios))\n",
    "\n",
    "\n",
    "def extract_each_json(byte_io: BytesIO) -> Iterable[Dict]:\n",
    "    import json\n",
    "\n",
    "    json_io = json.load(byte_io)\n",
    "    category = json_io[\"metadata\"][\"category\"]\n",
    "    print(\"extract_each_json\")\n",
    "\n",
    "    def extract_doc(document: dict) -> dict:\n",
    "        title = document[\"metadata\"][\"title\"]\n",
    "        url = document[\"metadata\"][\"url\"]\n",
    "        text = \"\\n\".join(line[\"form\"] for line in document[\"paragraph\"])\n",
    "\n",
    "        return {\"category\": category, \"text\": text, \"title\": title, \"url\": url}\n",
    "\n",
    "    texts = map(extract_doc, json_io[\"document\"])\n",
    "\n",
    "    return texts"
   ]
  },
  {
   "cell_type": "code",
   "execution_count": null,
   "id": "solid-leisure",
   "metadata": {},
   "outputs": [],
   "source": [
    "from io import BytesIO\n",
    "from typing import Iterable, Dict\n",
    "\n",
    "\n",
    "def extract(byte_io: BytesIO) -> Iterable[Dict]:\n",
    "    \"\"\"\n",
    "    Implement corpus specific extract function\n",
    "    \"\"\"\n",
    "    from itertools import chain\n",
    "    from zipfile import ZipFile\n",
    "\n",
    "    zip_obj = ZipFile(byte_io)\n",
    "    archives = zip_obj.namelist()\n",
    "    jsons = filter(lambda x: x.endswith(\".json\"), archives)\n",
    "    file_ios = map(zip_obj.open, jsons)\n",
    "    for file_io in file_ios:\n",
    "        \n",
    "    return chain(map(extract_each_json, file_ios))\n",
    "    # return chain(*map(extract_each_json, file_ios))\n",
    "\n",
    "\n",
    "def extract_each_json(byte_io: BytesIO) -> Iterable[Dict]:\n",
    "    import json\n",
    "\n",
    "    json_io = json.load(byte_io)\n",
    "    category = json_io[\"metadata\"][\"category\"]\n",
    "    print(\"extract_each_json\")\n",
    "\n",
    "    def extract_doc(document: dict) -> dict:\n",
    "        title = document[\"metadata\"][\"title\"]\n",
    "        url = document[\"metadata\"][\"url\"]\n",
    "        text = \"\\n\".join(line[\"form\"] for line in document[\"paragraph\"])\n",
    "\n",
    "        return {\"category\": category, \"text\": text, \"title\": title, \"url\": url}\n",
    "\n",
    "    texts = map(extract_doc, json_io[\"document\"])\n",
    "\n",
    "    return texts"
   ]
  },
  {
   "cell_type": "code",
   "execution_count": 45,
   "id": "sharp-quilt",
   "metadata": {},
   "outputs": [],
   "source": [
    "import boto3\n",
    "import io\n",
    "\n",
    "s3 = boto3.resource('s3')\n",
    "obj = s3.Object('skt-lsl-raw-apne2','raw/everyone_corpus_web/NIKL_WEB_v1.0.zip')"
   ]
  },
  {
   "cell_type": "code",
   "execution_count": 46,
   "id": "radical-module",
   "metadata": {},
   "outputs": [],
   "source": [
    "class S3File(io.RawIOBase):\n",
    "    def __init__(self, s3_object):\n",
    "        self.s3_object = s3_object\n",
    "        self.position = 0\n",
    "\n",
    "    def __repr__(self):\n",
    "        return \"<%s s3_object=%r>\" % (type(self).__name__, self.s3_object)\n",
    "\n",
    "    @property\n",
    "    def size(self):\n",
    "        return self.s3_object.content_length\n",
    "\n",
    "    def tell(self):\n",
    "        return self.position\n",
    "\n",
    "    def seek(self, offset, whence=io.SEEK_SET):\n",
    "        if whence == io.SEEK_SET:\n",
    "            self.position = offset\n",
    "        elif whence == io.SEEK_CUR:\n",
    "            self.position += offset\n",
    "        elif whence == io.SEEK_END:\n",
    "            self.position = self.size + offset\n",
    "        else:\n",
    "            raise ValueError(\"invalid whence (%r, should be %d, %d, %d)\" % (\n",
    "                whence, io.SEEK_SET, io.SEEK_CUR, io.SEEK_END\n",
    "            ))\n",
    "\n",
    "        return self.position\n",
    "\n",
    "    def seekable(self):\n",
    "        return True\n",
    "\n",
    "    def read(self, size=-1):\n",
    "        if size == -1:\n",
    "            # Read to the end of the file\n",
    "            range_header = \"bytes=%d-\" % self.position\n",
    "            self.seek(offset=0, whence=io.SEEK_END)\n",
    "        else:\n",
    "            new_position = self.position + size\n",
    "\n",
    "            # If we're going to read beyond the end of the object, return\n",
    "            # the entire object.\n",
    "            if new_position >= self.size:\n",
    "                return self.read()\n",
    "\n",
    "            range_header = \"bytes=%d-%d\" % (self.position, new_position - 1)\n",
    "            self.seek(offset=size, whence=io.SEEK_CUR)\n",
    "\n",
    "        return self.s3_object.get(Range=range_header)[\"Body\"].read()\n",
    "\n",
    "    def readable(self):\n",
    "        return True\n"
   ]
  },
  {
   "cell_type": "code",
   "execution_count": 47,
   "id": "joined-elizabeth",
   "metadata": {},
   "outputs": [],
   "source": [
    "import io\n",
    "\n",
    "# bytes_io = io.BufferedReader(obj.get()['Body']._raw_stream)\n",
    "bytes_io = S3File(obj)"
   ]
  },
  {
   "cell_type": "code",
   "execution_count": 20,
   "id": "direct-starter",
   "metadata": {},
   "outputs": [],
   "source": [
    "from io import BytesIO\n",
    "from typing import Iterable, Dict\n",
    "\n",
    "\n",
    "def extract(byte_io: BytesIO) -> Iterable[Dict]:\n",
    "    \"\"\"\n",
    "    Implement corpus specific extract function\n",
    "    \"\"\"\n",
    "    from itertools import chain\n",
    "    from zipfile import ZipFile\n",
    "\n",
    "    zip_obj = ZipFile(byte_io)\n",
    "    archives = zip_obj.namelist()\n",
    "    jsons = filter(lambda x: x.endswith(\".json\"), archives)\n",
    "    file_ios = map(zip_obj.open, jsons)\n",
    "    return file_ios"
   ]
  },
  {
   "cell_type": "code",
   "execution_count": 21,
   "id": "understanding-implement",
   "metadata": {},
   "outputs": [],
   "source": [
    "def extract_each_json(byte_io: BytesIO) -> Iterable[Dict]:\n",
    "    import json\n",
    "\n",
    "    json_io = json.load(byte_io)\n",
    "    category = json_io[\"metadata\"][\"category\"]\n",
    "\n",
    "    def extract_doc(document: dict) -> dict:\n",
    "        title = document[\"metadata\"][\"title\"]\n",
    "        url = document[\"metadata\"][\"url\"]\n",
    "        text = \"\\n\".join(line[\"form\"] for line in document[\"paragraph\"])\n",
    "\n",
    "        return {\"category\": category, \"text\": text, \"title\": title, \"url\": url}\n",
    "\n",
    "    texts = map(extract_doc, json_io[\"document\"])\n",
    "\n",
    "    return texts"
   ]
  },
  {
   "cell_type": "code",
   "execution_count": 48,
   "id": "unavailable-danger",
   "metadata": {},
   "outputs": [],
   "source": [
    "a = extract(bytes_io)"
   ]
  },
  {
   "cell_type": "code",
   "execution_count": null,
   "id": "median-military",
   "metadata": {},
   "outputs": [],
   "source": [
    "for i in a:\n",
    "    print(i)\n",
    "    break"
   ]
  },
  {
   "cell_type": "code",
   "execution_count": 35,
   "id": "limiting-solomon",
   "metadata": {},
   "outputs": [
    {
     "ename": "AttributeError",
     "evalue": "'map' object has no attribute 'next'",
     "output_type": "error",
     "traceback": [
      "\u001b[0;31m---------------------------------------------------------------------------\u001b[0m",
      "\u001b[0;31mAttributeError\u001b[0m                            Traceback (most recent call last)",
      "\u001b[0;32m<ipython-input-35-471ffcd26084>\u001b[0m in \u001b[0;36m<module>\u001b[0;34m\u001b[0m\n\u001b[0;32m----> 1\u001b[0;31m \u001b[0mb\u001b[0m \u001b[0;34m=\u001b[0m \u001b[0ma\u001b[0m\u001b[0;34m.\u001b[0m\u001b[0mnext\u001b[0m\u001b[0;34m(\u001b[0m\u001b[0;34m)\u001b[0m\u001b[0;34m\u001b[0m\u001b[0;34m\u001b[0m\u001b[0m\n\u001b[0m",
      "\u001b[0;31mAttributeError\u001b[0m: 'map' object has no attribute 'next'"
     ]
    }
   ],
   "source": [
    "b = a.()"
   ]
  },
  {
   "cell_type": "code",
   "execution_count": 20,
   "id": "diverse-pittsburgh",
   "metadata": {},
   "outputs": [],
   "source": [
    "a = extract(bytes_io)"
   ]
  },
  {
   "cell_type": "code",
   "execution_count": 21,
   "id": "permanent-terrain",
   "metadata": {},
   "outputs": [
    {
     "ename": "KeyError",
     "evalue": "'url'",
     "output_type": "error",
     "traceback": [
      "\u001b[0;31m---------------------------------------------------------------------------\u001b[0m",
      "\u001b[0;31mKeyError\u001b[0m                                  Traceback (most recent call last)",
      "\u001b[0;32m<ipython-input-21-7dc4f381af66>\u001b[0m in \u001b[0;36m<module>\u001b[0;34m\u001b[0m\n\u001b[0;32m----> 1\u001b[0;31m \u001b[0;32mfor\u001b[0m \u001b[0mi\u001b[0m\u001b[0;34m,\u001b[0m \u001b[0mx\u001b[0m \u001b[0;32min\u001b[0m \u001b[0menumerate\u001b[0m\u001b[0;34m(\u001b[0m\u001b[0ma\u001b[0m\u001b[0;34m)\u001b[0m\u001b[0;34m:\u001b[0m\u001b[0;34m\u001b[0m\u001b[0;34m\u001b[0m\u001b[0m\n\u001b[0m\u001b[1;32m      2\u001b[0m     \u001b[0mprint\u001b[0m\u001b[0;34m(\u001b[0m\u001b[0mx\u001b[0m\u001b[0;34m)\u001b[0m\u001b[0;34m\u001b[0m\u001b[0;34m\u001b[0m\u001b[0m\n\u001b[1;32m      3\u001b[0m     \u001b[0;32mif\u001b[0m \u001b[0mi\u001b[0m \u001b[0;34m==\u001b[0m \u001b[0;36m1\u001b[0m\u001b[0;34m:\u001b[0m\u001b[0;34m\u001b[0m\u001b[0;34m\u001b[0m\u001b[0m\n\u001b[1;32m      4\u001b[0m         \u001b[0;32mbreak\u001b[0m\u001b[0;34m\u001b[0m\u001b[0;34m\u001b[0m\u001b[0m\n",
      "\u001b[0;32m<ipython-input-1-9fa9f040f65e>\u001b[0m in \u001b[0;36mextract_doc\u001b[0;34m(document)\u001b[0m\n\u001b[1;32m     25\u001b[0m     \u001b[0;32mdef\u001b[0m \u001b[0mextract_doc\u001b[0m\u001b[0;34m(\u001b[0m\u001b[0mdocument\u001b[0m\u001b[0;34m:\u001b[0m \u001b[0mdict\u001b[0m\u001b[0;34m)\u001b[0m \u001b[0;34m->\u001b[0m \u001b[0mdict\u001b[0m\u001b[0;34m:\u001b[0m\u001b[0;34m\u001b[0m\u001b[0;34m\u001b[0m\u001b[0m\n\u001b[1;32m     26\u001b[0m         \u001b[0mtitle\u001b[0m \u001b[0;34m=\u001b[0m \u001b[0mdocument\u001b[0m\u001b[0;34m[\u001b[0m\u001b[0;34m\"metadata\"\u001b[0m\u001b[0;34m]\u001b[0m\u001b[0;34m[\u001b[0m\u001b[0;34m\"title\"\u001b[0m\u001b[0;34m]\u001b[0m\u001b[0;34m\u001b[0m\u001b[0;34m\u001b[0m\u001b[0m\n\u001b[0;32m---> 27\u001b[0;31m         \u001b[0murl\u001b[0m \u001b[0;34m=\u001b[0m \u001b[0mdocument\u001b[0m\u001b[0;34m[\u001b[0m\u001b[0;34m\"metadata\"\u001b[0m\u001b[0;34m]\u001b[0m\u001b[0;34m[\u001b[0m\u001b[0;34m\"url\"\u001b[0m\u001b[0;34m]\u001b[0m\u001b[0;34m\u001b[0m\u001b[0;34m\u001b[0m\u001b[0m\n\u001b[0m\u001b[1;32m     28\u001b[0m         \u001b[0mtext\u001b[0m \u001b[0;34m=\u001b[0m \u001b[0;34m\"\\n\"\u001b[0m\u001b[0;34m.\u001b[0m\u001b[0mjoin\u001b[0m\u001b[0;34m(\u001b[0m\u001b[0mline\u001b[0m\u001b[0;34m[\u001b[0m\u001b[0;34m\"form\"\u001b[0m\u001b[0;34m]\u001b[0m \u001b[0;32mfor\u001b[0m \u001b[0mline\u001b[0m \u001b[0;32min\u001b[0m \u001b[0mdocument\u001b[0m\u001b[0;34m[\u001b[0m\u001b[0;34m\"paragraph\"\u001b[0m\u001b[0;34m]\u001b[0m\u001b[0;34m)\u001b[0m\u001b[0;34m\u001b[0m\u001b[0;34m\u001b[0m\u001b[0m\n\u001b[1;32m     29\u001b[0m \u001b[0;34m\u001b[0m\u001b[0m\n",
      "\u001b[0;31mKeyError\u001b[0m: 'url'"
     ]
    }
   ],
   "source": [
    "for i, x in enumerate(a):\n",
    "    print(x)\n",
    "    if i == 1:\n",
    "        break"
   ]
  },
  {
   "cell_type": "code",
   "execution_count": null,
   "id": "chubby-hobby",
   "metadata": {},
   "outputs": [],
   "source": []
  }
 ],
 "metadata": {
  "kernelspec": {
   "display_name": "Python 3",
   "language": "python",
   "name": "python3"
  },
  "language_info": {
   "codemirror_mode": {
    "name": "ipython",
    "version": 3
   },
   "file_extension": ".py",
   "mimetype": "text/x-python",
   "name": "python",
   "nbconvert_exporter": "python",
   "pygments_lexer": "ipython3",
   "version": "3.8.7"
  }
 },
 "nbformat": 4,
 "nbformat_minor": 5
}

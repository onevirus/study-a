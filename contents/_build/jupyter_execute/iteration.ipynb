{
 "cells": [
  {
   "cell_type": "markdown",
   "id": "owned-berlin",
   "metadata": {},
   "source": [
    "Iteration\n",
    "=======\n",
    "\n",
    "### iterable\n",
    "\n",
    "An object capable of returning its members one at a time. Examples of iterables include all sequence types (such as list, str, and tuple) and some non-sequence types like dict, file objects, and objects of any classes you define with an `__iter__()` method or with a `__getitem__()` method that implements Sequence semantics.\n",
    "\n",
    "Iterables can be used in a for loop and in many other places where a sequence is needed (zip(), map(), …). When an iterable object is passed as an argument to the built-in function iter(), it returns an iterator for the object. This iterator is good for one pass over the set of values. When using iterables, it is usually not necessary to call iter() or deal with iterator objects yourself. The for statement does that automatically for you, creating a temporary unnamed variable to hold the iterator for the duration of the loop. See also iterator, sequence, and generator.\n",
    "\n",
    "### iterator\n",
    "\n",
    "An object representing a stream of data. Repeated calls to the iterator’s `__next__()` method (or passing it to the built-in function next()) return successive items in the stream. When no more data are available a StopIteration exception is raised instead. At this point, the iterator object is exhausted and any further calls to its `__next__()` method just raise StopIteration again. Iterators are required to have an `__iter__()` method that returns the iterator object itself so every iterator is also iterable and may be used in most places where other iterables are accepted. One notable exception is code which attempts multiple iteration passes. A container object (such as a list) produces a fresh new iterator each time you pass it to the iter() function or use it in a for loop. Attempting this with an iterator will just return the same exhausted iterator object used in the previous iteration pass, making it appear like an empty container.\n",
    "\n",
    "\n",
    "iterator = iter(iterable)\n",
    "\n",
    "iterable is a container. stateless\n",
    "iterator 는 상태가 바뀜"
   ]
  },
  {
   "cell_type": "code",
   "execution_count": 1,
   "id": "involved-family",
   "metadata": {},
   "outputs": [
    {
     "name": "stdout",
     "output_type": "stream",
     "text": [
      "1\n",
      "2\n",
      "3\n",
      "4\n",
      "5\n",
      "6\n",
      "7\n",
      "1\n",
      "2\n",
      "[3, 4, 5, 6, 7]\n"
     ]
    }
   ],
   "source": [
    "# iterable\n",
    "\n",
    "a = [1, 2, 3, 4, 5, 6, 7]\n",
    "\n",
    "# iterator\n",
    "\n",
    "b = iter(a)\n",
    "print(b.__next__())\n",
    "print(next(b))\n",
    "for i in b:\n",
    "    print(i)\n",
    "\n",
    "c = a.__iter__()\n",
    "print(next(c))\n",
    "print(c.__next__())\n",
    "print(list(c))"
   ]
  },
  {
   "cell_type": "code",
   "execution_count": 2,
   "id": "answering-excitement",
   "metadata": {},
   "outputs": [
    {
     "name": "stdout",
     "output_type": "stream",
     "text": [
      "1\n",
      "2\n",
      "3\n",
      "[4, 5]\n"
     ]
    }
   ],
   "source": [
    "# generator\n",
    "\n",
    "def gen():\n",
    "    for row in [1, 2, 3, 4, 5]:\n",
    "        yield row\n",
    "        \n",
    "g = gen()\n",
    "print(next(g))\n",
    "print(next(g))\n",
    "print(next(g))\n",
    "print(list(g))"
   ]
  },
  {
   "cell_type": "code",
   "execution_count": 3,
   "id": "thick-atlas",
   "metadata": {},
   "outputs": [
    {
     "data": {
      "text/plain": [
       "[10, 7, 4, 1, -2, -5, -8]"
      ]
     },
     "execution_count": 3,
     "metadata": {},
     "output_type": "execute_result"
    }
   ],
   "source": [
    "list(range(10, -10, -3))"
   ]
  }
 ],
 "metadata": {
  "kernelspec": {
   "display_name": "Python 3",
   "language": "python",
   "name": "python3"
  },
  "language_info": {
   "codemirror_mode": {
    "name": "ipython",
    "version": 3
   },
   "file_extension": ".py",
   "mimetype": "text/x-python",
   "name": "python",
   "nbconvert_exporter": "python",
   "pygments_lexer": "ipython3",
   "version": "3.7.10"
  }
 },
 "nbformat": 4,
 "nbformat_minor": 5
}
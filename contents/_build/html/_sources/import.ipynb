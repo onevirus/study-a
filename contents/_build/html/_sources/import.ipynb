{
 "cells": [
  {
   "cell_type": "markdown",
   "id": "unable-header",
   "metadata": {},
   "source": [
    "Import\n",
    "======\n",
    "\n",
    "https://docs.python.org/3/tutorial/modules.html?highlight=package#modules\n",
    "\n",
    "## string varialbe 로 import 하기"
   ]
  },
  {
   "cell_type": "code",
   "execution_count": 40,
   "id": "daily-chicken",
   "metadata": {},
   "outputs": [
    {
     "name": "stdout",
     "output_type": "stream",
     "text": [
      "2021-04-24 22:31:44.467956\n",
      "/Users/onevirus/.pyenv/versions/3.7.10/lib/python3.7/datetime.py\n"
     ]
    },
    {
     "data": {
      "text/plain": [
       "['MAXYEAR',\n",
       " 'MINYEAR',\n",
       " '__builtins__',\n",
       " '__cached__',\n",
       " '__doc__',\n",
       " '__file__',\n",
       " '__loader__',\n",
       " '__name__',\n",
       " '__package__',\n",
       " '__spec__',\n",
       " 'date',\n",
       " 'datetime',\n",
       " 'datetime_CAPI',\n",
       " 'sys',\n",
       " 'time',\n",
       " 'timedelta',\n",
       " 'timezone',\n",
       " 'tzinfo']"
      ]
     },
     "execution_count": 40,
     "metadata": {},
     "output_type": "execute_result"
    }
   ],
   "source": [
    "import importlib\n",
    "\n",
    "mod = importlib.import_module(\"datetime\")\n",
    "\n",
    "print(mod.datetime.utcnow())\n",
    "print(mod.__file__)\n",
    "dir(mod)"
   ]
  },
  {
   "cell_type": "code",
   "execution_count": 39,
   "id": "drawn-decade",
   "metadata": {},
   "outputs": [
    {
     "name": "stdout",
     "output_type": "stream",
     "text": [
      "/Users/onevirus/.pyenv/versions/3.7.10/lib/python3.7/concurrent/futures/thread.py\n",
      "/Users/onevirus/.pyenv/versions/3.7.10/lib/python3.7/concurrent/futures/__init__.py\n",
      "/Users/onevirus/.pyenv/versions/3.7.10/lib/python3.7/concurrent/futures/thread.py\n",
      "/Users/onevirus/.pyenv/versions/3.7.10/lib/python3.7/xml/etree/ElementTree.py\n"
     ]
    }
   ],
   "source": [
    "import importlib\n",
    "\n",
    "a = importlib.import_module(\"concurrent.futures.thread\")\n",
    "print(a.__file__)\n",
    "\n",
    "b = importlib.import_module(\".futures\", \"concurrent\")\n",
    "print(b.__file__)\n",
    "\n",
    "c = importlib.import_module(\".futures.thread\", \"concurrent\")\n",
    "print(c.__file__)\n",
    "\n",
    "d = importlib.import_module(\".ElementTree\", \"xml.etree\")\n",
    "print(d.__file__)"
   ]
  }
 ],
 "metadata": {
  "kernelspec": {
   "display_name": "Python 3",
   "language": "python",
   "name": "python3"
  },
  "language_info": {
   "codemirror_mode": {
    "name": "ipython",
    "version": 3
   },
   "file_extension": ".py",
   "mimetype": "text/x-python",
   "name": "python",
   "nbconvert_exporter": "python",
   "pygments_lexer": "ipython3",
   "version": "3.7.10"
  }
 },
 "nbformat": 4,
 "nbformat_minor": 5
}
